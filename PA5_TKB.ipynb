{
 "cells": [
  {
   "cell_type": "markdown",
   "id": "a3c91407",
   "metadata": {},
   "source": [
    "# Tristan Beckmann\n",
    "\n",
    "# 2023SP Computer Prog for Liberal Arts (CS-150-01)\n",
    "## Programming Assignment 5 - Version 1\n",
    "### Spring 2023"
   ]
  },
  {
   "cell_type": "code",
   "execution_count": 9,
   "id": "21f28a69",
   "metadata": {},
   "outputs": [
    {
     "name": "stdout",
     "output_type": "stream",
     "text": [
      "dict_keys(['red', 'walk', 'work', 'name', 'shirt', 'shoes', 'arms', 'dog', 'cat', 'talk', 'run', 'sleep', 'car', 'phone', 'paper', 'hello', 'bye', 'school', 'flower', 'socks'])\n",
      "Enter a work to translate: work\n",
      "trabajar\n"
     ]
    }
   ],
   "source": [
    "print(translation.keys())\n",
    "t=str(input('Enter a work to translate: '))\n",
    "translation={\n",
    "    'red' : 'rojo',\n",
    "    'walk' : 'caminar',\n",
    "    'work' : 'trabajar',\n",
    "    'name' : 'nombre',\n",
    "    'shirt' : 'camisa',\n",
    "    'shoes' : 'zapatos',\n",
    "    'arms' : 'brazos',\n",
    "    'dog' : 'perro',\n",
    "    'cat' : 'gato',\n",
    "    'talk' : 'hablar',\n",
    "    'run' : 'correr',\n",
    "    'sleep' : 'dormir',\n",
    "    'car' : 'auto',\n",
    "    'phone' : 'telefono',\n",
    "    'paper' : 'papel',\n",
    "    'hello' : 'hola',\n",
    "    'bye' : 'adios',\n",
    "    'school' : 'escuela',\n",
    "    'flower' : 'flor',\n",
    "    'socks' : 'calcetines'}\n",
    "print(translation[t])"
   ]
  },
  {
   "cell_type": "code",
   "execution_count": 12,
   "id": "3514d280",
   "metadata": {},
   "outputs": [
    {
     "data": {
      "text/plain": [
       "{'1': 8.333333333333334,\n",
       " '2': 13.88888888888889,\n",
       " '3': 16.666666666666668,\n",
       " '4': 12.777777777777777,\n",
       " '5': 6.111111111111111,\n",
       " '6': 4.444444444444445,\n",
       " '7': 6.111111111111111,\n",
       " '8': 4.444444444444445,\n",
       " '9': 3.888888888888889,\n",
       " '10': 6.666666666666666,\n",
       " '11': 11.11111111111111,\n",
       " '12': 12.222222222222221,\n",
       " '13': 2.7777777777777777,\n",
       " '14': 1.1111111111111112,\n",
       " '15': 1.6666666666666665,\n",
       " '16': 6.666666666666666,\n",
       " '17': 13.88888888888889,\n",
       " '18': 7.777777777777778,\n",
       " '19': 13.333333333333332,\n",
       " '20': 3.333333333333333,\n",
       " '21': 2.7777777777777777,\n",
       " '22': 2.2222222222222223,\n",
       " '23': 2.2222222222222223,\n",
       " '24': 4.444444444444445,\n",
       " '25': 4.444444444444445,\n",
       " '26': 1.6666666666666665,\n",
       " '27': 3.888888888888889,\n",
       " '28': 10.0,\n",
       " '29': 7.777777777777778,\n",
       " '30': 1.6666666666666665,\n",
       " '31': -2.7777777777777777}"
      ]
     },
     "execution_count": 12,
     "metadata": {},
     "output_type": "execute_result"
    }
   ],
   "source": [
    "temp_dict={'1' : 47,\n",
    "      '2' : 57,\n",
    "      '3' : 62,\n",
    "      '4' : 55,\n",
    "      '5' : 43,\n",
    "      '6' : 40,\n",
    "       '7' : 43,\n",
    "          '8' : 40,\n",
    "          '9' : 39,\n",
    "          '10' : 44,\n",
    "          '11' : 52,\n",
    "          '12' : 54,\n",
    "          '13' : 37,\n",
    "          '14' : 34,\n",
    "          '15' : 35,\n",
    "          '16' : 44,\n",
    "          '17' : 57,\n",
    "          '18' : 46,\n",
    "          '19' : 56,\n",
    "          '20' : 38,\n",
    "          '21' : 37,\n",
    "          '22' : 36,\n",
    "          '23' : 36,\n",
    "          '24' : 40,\n",
    "          '25' : 40,\n",
    "          '26' : 35,\n",
    "          '27' : 39,\n",
    "          '28' : 50,\n",
    "          '29' : 46,\n",
    "          '30' : 35,\n",
    "          '31' : 27}\n",
    "for key in temp_dict:\n",
    "    temp_dict[key]-=32\n",
    "    temp_dict[key]/=1.8\n",
    "temp_dict"
   ]
  },
  {
   "cell_type": "code",
   "execution_count": 13,
   "id": "38e87737",
   "metadata": {},
   "outputs": [
    {
     "name": "stdout",
     "output_type": "stream",
     "text": [
      "{1: 1, 2: 4, 3: 9, 4: 16, 5: 25, 6: 36, 7: 49, 8: 64, 9: 81, 10: 100, 11: 121, 12: 144, 13: 169, 14: 196, 15: 225}\n"
     ]
    }
   ],
   "source": [
    "d=dict()\n",
    "for x in range(1,16):\n",
    "    d[x]=x**2\n",
    "print(d)  "
   ]
  }
 ],
 "metadata": {
  "kernelspec": {
   "display_name": "Python 3 (ipykernel)",
   "language": "python",
   "name": "python3"
  },
  "language_info": {
   "codemirror_mode": {
    "name": "ipython",
    "version": 3
   },
   "file_extension": ".py",
   "mimetype": "text/x-python",
   "name": "python",
   "nbconvert_exporter": "python",
   "pygments_lexer": "ipython3",
   "version": "3.9.13"
  }
 },
 "nbformat": 4,
 "nbformat_minor": 5
}
